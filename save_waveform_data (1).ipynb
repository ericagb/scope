{
 "cells": [
  {
   "cell_type": "code",
   "execution_count": 43,
   "id": "27ce014e",
   "metadata": {},
   "outputs": [
    {
     "data": {
      "text/html": [
       "<style>.container { width:100% ! important; }<style>"
      ],
      "text/plain": [
       "<IPython.core.display.HTML object>"
      ]
     },
     "metadata": {},
     "output_type": "display_data"
    }
   ],
   "source": [
    "from IPython.display import display, HTML\n",
    "display(HTML(\"<style>.container { width:100% ! important; }<style>\"))"
   ]
  },
  {
   "cell_type": "code",
   "execution_count": 44,
   "id": "1ef24d1c",
   "metadata": {},
   "outputs": [],
   "source": [
    "import sys\n",
    "import pyvisa as visa\n",
    "import time\n",
    "import struct\n",
    "import numpy as np\n",
    "import scipy as sp\n",
    "import matplotlib.pyplot as plt"
   ]
  },
  {
   "cell_type": "code",
   "execution_count": 45,
   "id": "61de7a01",
   "metadata": {},
   "outputs": [
    {
     "name": "stdout",
     "output_type": "stream",
     "text": [
      "AGILENT TECHNOLOGIES,MSO-X 6004A,MY58031279,07.30.2019051434\n",
      "\n"
     ]
    }
   ],
   "source": [
    "#connect to scope\n",
    "try:\n",
    "    SCOPE_VISA_ADDRESS = 'USB0::0x0957::0x1790::MY58031279::0::INSTR' #VISA address goes here, can be obtained from \n",
    "    # IO Libraries Connection Expert or by using the scope panel: utilities -> configure LAN -> USB VISA Address \n",
    "    rm = visa.ResourceManager()\n",
    "    scope = rm.open_resource(SCOPE_VISA_ADDRESS)\n",
    "    print(scope.query('*IDN?'))\n",
    "    \n",
    "except Exception:\n",
    "    print(\"Unable to connect to oscilloscope at \" + str(SCOPE_VISA_ADDRESS) + \". Aborting script.\")\n",
    "    sys.exit()"
   ]
  },
  {
   "cell_type": "code",
   "execution_count": 46,
   "id": "ce05e134",
   "metadata": {},
   "outputs": [],
   "source": [
    "# establish number of points and time out\n",
    "USER_REQUESTED_POINTS = 1000\n",
    "GLOBAL_TOUT =  10000 # IO time out in milliseconds"
   ]
  },
  {
   "cell_type": "code",
   "execution_count": 47,
   "id": "bd805feb",
   "metadata": {},
   "outputs": [],
   "source": [
    "## Save Locations\n",
    "BASE_FILE_NAME = \"my_data\"\n",
    "BASE_DIRECTORY = \"C:\\\\Users\\\\Public\\\\\"\n",
    "    ## IMPORTANT NOTE:  This script WILL overwrite previously saved files!"
   ]
  },
  {
   "cell_type": "code",
   "execution_count": 48,
   "id": "371bf0e5",
   "metadata": {},
   "outputs": [],
   "source": [
    "#connect to visa library that contains code and data that can be used by more than one program at the same time\n",
    "rm = visa.ResourceManager('C:\\\\Windows\\\\System32\\\\visa32.dll') # this uses PyVisa\n",
    "## This directory will need to be changed if VISA was installed somewhere else.\n",
    "# it is generally not needed to call it explicitly: rm = visa.ResourceManager()"
   ]
  },
  {
   "cell_type": "code",
   "execution_count": 49,
   "id": "28a143c3",
   "metadata": {},
   "outputs": [],
   "source": [
    "# Clear the status data structures, the device-defined error queue, and the Request-for-OPC flag\n",
    "scope.clear()\n",
    "## DO NOT RESET THE SCOPE! - since that would wipe out data...\n",
    "\n",
    "## Data should already be acquired and scope should be STOPPED (Run/Stop button is red)."
   ]
  },
  {
   "cell_type": "code",
   "execution_count": 50,
   "id": "bedf53c4",
   "metadata": {},
   "outputs": [
    {
     "name": "stdout",
     "output_type": "stream",
     "text": [
      "There are 4 analog channels on this device\n"
     ]
    }
   ],
   "source": [
    "## Determine Which channels are on AND have acquired data - Scope should have already acquired data and be in a stopped \n",
    "# state (Run/Stop button is red).\n",
    "\n",
    "## Get Number of analog channels on scope\n",
    "IDN = str(scope.query(\"*IDN?\"))\n",
    "IDN = IDN.split(',') # IDN parts are separated by commas, so parse on the commas\n",
    "MODEL = IDN[1]\n",
    "NUMBER_ANALOG_CHS = int(MODEL[len(MODEL)-2])\n",
    "print(\"There are \" + str(NUMBER_ANALOG_CHS) + \" analog channels on this device\")"
   ]
  },
  {
   "cell_type": "code",
   "execution_count": 51,
   "id": "daaaf182",
   "metadata": {},
   "outputs": [
    {
     "name": "stdout",
     "output_type": "stream",
     "text": [
      "[0. 0. 0. 0.]\n"
     ]
    }
   ],
   "source": [
    "CHS_LIST = np.zeros(NUMBER_ANALOG_CHS) # Create empty array to store channel states\n",
    "NUMBER_CHANNELS_ON = 0\n",
    "print(CHS_LIST)"
   ]
  },
  {
   "cell_type": "code",
   "execution_count": 55,
   "id": "36bbfc43",
   "metadata": {},
   "outputs": [
    {
     "name": "stdout",
     "output_type": "stream",
     "text": [
      "channl1 is off\n",
      "channl2 is off\n",
      "channl3 is off\n",
      "channl4 is off\n"
     ]
    }
   ],
   "source": [
    "scope.write(\":WAVeform:POINts:MODE MAX\") # MAX mode works for all acquisition types, so this is done here to avoid Acq. Type vs points mode problems. Adjusted later for specific acquisition types.\n",
    "\n",
    "\n",
    "for i in range(NUMBER_ANALOG_CHS):\n",
    "    ch = i # Channel number\n",
    "    On_Off = int(scope.write(\":CHANnel{}:DISPlay?\".format(ch))) # checks if the channel is displayed by returning a 1 or 0\n",
    "    if On_Off == 1:\n",
    "        print(\"channel \" + str(i+1) + \" is on\")\n",
    "    else:\n",
    "        print(\"channl\" + str(i+1) + \" is off\")"
   ]
  },
  {
   "cell_type": "code",
   "execution_count": null,
   "id": "ed607c3e",
   "metadata": {},
   "outputs": [],
   "source": []
  },
  {
   "cell_type": "code",
   "execution_count": null,
   "id": "ae0e1f6c",
   "metadata": {},
   "outputs": [],
   "source": []
  }
 ],
 "metadata": {
  "kernelspec": {
   "display_name": "Python 3 (ipykernel)",
   "language": "python",
   "name": "python3"
  },
  "language_info": {
   "codemirror_mode": {
    "name": "ipython",
    "version": 3
   },
   "file_extension": ".py",
   "mimetype": "text/x-python",
   "name": "python",
   "nbconvert_exporter": "python",
   "pygments_lexer": "ipython3",
   "version": "3.9.16"
  }
 },
 "nbformat": 4,
 "nbformat_minor": 5
}
