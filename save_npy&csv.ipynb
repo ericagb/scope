{
 "cells": [
  {
   "cell_type": "code",
   "execution_count": 95,
   "id": "8270e01d",
   "metadata": {},
   "outputs": [],
   "source": [
    "#from IPython.display import display, HTML\n",
    "#display(HTML(\"<style>.container { width:100% ! important; }<style>\"))"
   ]
  },
  {
   "cell_type": "code",
   "execution_count": 96,
   "id": "1ef24d1c",
   "metadata": {},
   "outputs": [],
   "source": [
    "import sys\n",
    "import pyvisa as visa\n",
    "import time\n",
    "import struct\n",
    "import numpy as np\n",
    "import scipy as sp\n",
    "import matplotlib.pyplot as plt"
   ]
  },
  {
   "cell_type": "code",
   "execution_count": 97,
   "id": "61de7a01",
   "metadata": {
    "scrolled": true
   },
   "outputs": [
    {
     "name": "stdout",
     "output_type": "stream",
     "text": [
      "Connection to AGILENT TECHNOLOGIES,MSO-X 6004A,MY58031279,07.30.2019051434\n",
      " successfull.\n"
     ]
    }
   ],
   "source": [
    "#connect to scope\n",
    "try:\n",
    "    SCOPE_VISA_ADDRESS = 'USB0::0x0957::0x1790::MY58031279::0::INSTR' #VISA address goes here, can be obtained from \n",
    "    # IO Libraries Connection Expert or by using the scope panel: utilities -> configure LAN -> USB VISA Address \n",
    "    rm = visa.ResourceManager()\n",
    "    scope = rm.open_resource(SCOPE_VISA_ADDRESS)\n",
    "    print(\"Connection to \" + scope.query('*IDN?') + \" successfull.\")\n",
    "    \n",
    "except Exception:\n",
    "    print(\"Unable to connect to oscilloscope at \" + str(SCOPE_VISA_ADDRESS) + \". Aborting script.\")\n",
    "    sys.exit()"
   ]
  },
  {
   "cell_type": "code",
   "execution_count": 98,
   "id": "ce05e134",
   "metadata": {},
   "outputs": [],
   "source": [
    "# establish number of points and time out\n",
    "USER_REQUESTED_POINTS = 1000\n",
    "GLOBAL_TOUT =  10000 # IO time out in milliseconds"
   ]
  },
  {
   "cell_type": "code",
   "execution_count": 99,
   "id": "bd805feb",
   "metadata": {},
   "outputs": [],
   "source": [
    "## Save Locations\n",
    "BASE_FILE_NAME = \"my_data\"\n",
    "BASE_DIRECTORY = \"C:\\\\Users\\\\Public\\\\\"\n",
    "    ## IMPORTANT NOTE:  This script WILL overwrite previously saved files!"
   ]
  },
  {
   "cell_type": "code",
   "execution_count": 100,
   "id": "371bf0e5",
   "metadata": {},
   "outputs": [],
   "source": [
    "#connect to visa library that contains code and data that can be used by more than one program at the same time\n",
    "rm = visa.ResourceManager('visa32.dll') # this uses PyVisa\n",
    "## This directory will need to be changed if VISA was installed somewhere else.\n",
    "# it is generally not needed to call it explicitly: rm = visa.ResourceManager()"
   ]
  },
  {
   "cell_type": "code",
   "execution_count": 101,
   "id": "28a143c3",
   "metadata": {},
   "outputs": [
    {
     "data": {
      "text/plain": [
       "6"
      ]
     },
     "execution_count": 101,
     "metadata": {},
     "output_type": "execute_result"
    }
   ],
   "source": [
    "# Clear the status data structures, the device-defined error queue, and the Request-for-OPC flag\n",
    "scope.clear()\n",
    "## DO NOT RESET THE SCOPE! - since that would wipe out data...\n",
    "scope.write(\"*CLS\")\n",
    "## Data should already be acquired and scope should be STOPPED (Run/Stop button is red)."
   ]
  },
  {
   "cell_type": "code",
   "execution_count": 102,
   "id": "bedf53c4",
   "metadata": {},
   "outputs": [
    {
     "name": "stdout",
     "output_type": "stream",
     "text": [
      "There are 4 analog channels on this device.\n"
     ]
    }
   ],
   "source": [
    "## Determine Which channels are on AND have acquired data - Scope should have already acquired data and be in a stopped \n",
    "# state (Run/Stop button is red).\n",
    "\n",
    "## Get Number of analog channels on scope\n",
    "IDN = str(scope.query(\"*IDN?\"))\n",
    "IDN = IDN.split(',') # IDN parts are separated by commas, so parse on the commas\n",
    "MODEL = IDN[1]\n",
    "NUMBER_ANALOG_CHS = int(MODEL[len(MODEL)-2])\n",
    "print(\"There are \" + str(NUMBER_ANALOG_CHS) + \" analog channels on this device.\")"
   ]
  },
  {
   "cell_type": "code",
   "execution_count": 103,
   "id": "36bbfc43",
   "metadata": {
    "scrolled": true
   },
   "outputs": [
    {
     "name": "stdout",
     "output_type": "stream",
     "text": [
      "channel 4 is off\n",
      "channel 4 is on\n",
      "The amplitud is +99E+36VOLT\n",
      "\n",
      "channel 4 is off\n",
      "channel 4 is off\n"
     ]
    }
   ],
   "source": [
    "# choose which channels to display and obtain data from\n",
    "# must do this manually since noise triggers the channel to be displayed\n",
    "\n",
    "for ch in range(1, NUMBER_ANALOG_CHS+1):\n",
    "    scope.write(\":BLANk CHANnel\" + str(ch)) #blank channels\n",
    "    scope.write(\":CHANnel1:DISPlay OFF\") #choose ON or OFF as desired\n",
    "    scope.write(\":CHANnel2:DISPlay ON\")\n",
    "    scope.write(\":CHANnel3:DISPlay OFF\")\n",
    "    scope.write(\":CHANnel4:DISPlay OFF\")\n",
    "    On_Off = int(scope.query(\":CHANnel\" + str(ch) + \":DISPlay?\")) # checks if the channel is displayed by returning a 1 or 0\n",
    "    if On_Off == 1:\n",
    "        print(\"channel \" + str(i+1) + \" is on\")\n",
    "        print(\"The amplitud is \" + str(scope.query(\":MEASure:VTOP? CHANnel\" + str(ch))).strip('\\n') + scope.query(\":CHANnel\" + str(ch) + \":UNITs?\"))\n",
    "        #amplitud useful for double checking with the screen\n",
    "    else:\n",
    "        print(\"channel \" + str(i+1) + \" is off\")"
   ]
  },
  {
   "cell_type": "code",
   "execution_count": 104,
   "id": "dca346ec",
   "metadata": {},
   "outputs": [
    {
     "data": {
      "image/png": "[encoded data removed]",
      "text/plain": [
       "<Figure size 640x480 with 1 Axes>"
      ]
     },
     "metadata": {},
     "output_type": "display_data"
    }
   ],
   "source": [
    "def voltage_vs_time(ch):\n",
    "    try:\n",
    "        scope.write('*CLS')\n",
    "\n",
    "        scope.write(\":ACQuire:TYPE HRESolution\")\n",
    "        # sets the oscilloscope in the high-resolution mode (also known as smoothing). \n",
    "        # This mode is used to reduce noise at slower sweep speeds where the digitizer samples faster than needed to fill \n",
    "        # memory for the displayed time range. The slower the sweep speed, the greater the number of samples\n",
    "        # that are averaged together for each display point.\n",
    "        \n",
    "        # if prefered use scope.write(\":ACQuire:NORMal\") instead\n",
    "        \n",
    "        scope.write(\":TIMebase:MODE MAIN\")\n",
    "        scope.write(\":WAVeform:SOURce CHANnel{}\".format(ch))\n",
    "        scope.write(\":WAVeform:FORMat WORD\")\n",
    "        scope.write(\":WAVeform:POINts 100\")\n",
    "\n",
    "        scope.write(\":SINGle\")\n",
    "        #causes the instrument to acquire a single trigger of data.\n",
    "        #This is the same as pressing the Single key on the front panel.\n",
    "        \n",
    "        preamble = scope.query(\":WAVeform:PREamble?\").split(\",\")\n",
    "        values = scope.query_binary_values(\":WAVeform:DATA?\", datatype=\"h\", container=np.array)\n",
    "        \n",
    "\n",
    "        num_samples = int(preamble[2])\n",
    "\n",
    "\n",
    "        x_increment = float(preamble[4])\n",
    "        x_origin = 0 #set as desired or use float(preamble[5])\n",
    "        x_reference = float(preamble[6])\n",
    "        time = np.array([(np.arange(num_samples)-x_reference)*x_increment + x_origin])\n",
    "        time = time.T # make x values vertical\n",
    "        time_in_miliseconds = time * 1e3\n",
    "        \n",
    "        y_increment = float(preamble[7])\n",
    "        y_origin = float(preamble[8])\n",
    "        y_reference = float(preamble[9])\n",
    "        voltage = (values-y_reference)*y_increment + y_origin\n",
    "        \n",
    "        return time_in_miliseconds, voltage\n",
    "        \n",
    "    except Exception as e:\n",
    "        print(e)\n",
    "    \n",
    "    \n",
    "for ch in range(1,NUMBER_ANALOG_CHS+1):\n",
    "    On_Off = int(scope.query(\":CHANnel\" + str(ch) + \":DISPlay?\")) # checks if the channel is displayed by returning a 1 or 0\n",
    "    if On_Off == 1:\n",
    "        t, v = voltage_vs_time(ch)\n",
    "        plt.plot(t, v)\n",
    "        plt.title(\"Voltage vs Time for Channel \" + str(ch))\n",
    "        plt.xlabel('Time (miliseconds)')\n",
    "        plt.ylabel('Voltage (V)')\n",
    "        plt.grid()\n",
    "        plt.ylim()\n",
    "        plt.show()"
   ]
  },
  {
   "cell_type": "code",
   "execution_count": 105,
   "id": "6f3cee17",
   "metadata": {},
   "outputs": [
    {
     "name": "stdout",
     "output_type": "stream",
     "text": [
      "The time values in miliseconds have been saved to wav_time.npy\n",
      "[[0.   0.02 0.04 0.06 0.08 0.1  0.12 0.14 0.16 0.18 0.2  0.22 0.24 0.26\n",
      "  0.28 0.3  0.32 0.34 0.36 0.38 0.4  0.42 0.44 0.46 0.48 0.5  0.52 0.54\n",
      "  0.56 0.58 0.6  0.62 0.64 0.66 0.68 0.7  0.72 0.74 0.76 0.78 0.8  0.82\n",
      "  0.84 0.86 0.88 0.9  0.92 0.94 0.96 0.98 1.   1.02 1.04 1.06 1.08 1.1\n",
      "  1.12 1.14 1.16 1.18 1.2  1.22 1.24 1.26 1.28 1.3  1.32 1.34 1.36 1.38\n",
      "  1.4  1.42 1.44 1.46 1.48 1.5  1.52 1.54 1.56 1.58 1.6  1.62 1.64 1.66\n",
      "  1.68 1.7  1.72 1.74 1.76 1.78 1.8  1.82 1.84 1.86 1.88 1.9  1.92 1.94\n",
      "  1.96 1.98]]\n",
      "The voltage values in VOLTS have been saved to wav_voltage.npy\n",
      "[ 0.12552301  0.08368201  0.12552301  0.12552301  0.12552301  0.25104603\n",
      "  0.20920502 -0.041841    0.041841    0.041841    0.16736402  0.041841\n",
      "  0.20920502  0.041841    0.12552301  0.12552301  0.041841    0.\n",
      "  0.12552301  0.16736402  0.12552301  0.08368201  0.041841    0.041841\n",
      "  0.041841    0.08368201  0.08368201  0.08368201  0.08368201 -0.041841\n",
      "  0.08368201  0.12552301  0.12552301  0.12552301  0.041841    0.08368201\n",
      "  0.041841    0.20920502 -0.08368201  0.20920502  0.041841    0.041841\n",
      "  0.08368201  0.12552301  0.16736402  0.16736402  0.          0.\n",
      "  0.16736402  0.041841    0.12552301  0.12552301  0.12552301  0.\n",
      "  0.08368201  0.16736402  0.25104603 -0.08368201  0.041841    0.041841\n",
      "  0.         -0.041841    0.12552301  0.12552301  0.041841    0.08368201\n",
      "  0.          0.16736402  0.          0.12552301  0.16736402  0.\n",
      "  0.08368201  0.          0.20920502  0.20920502  0.08368201  0.12552301\n",
      "  0.08368201  0.08368201  0.12552301  0.          0.041841    0.12552301\n",
      "  0.12552301  0.12552301  0.041841    0.041841    0.08368201  0.12552301\n",
      " -0.041841    0.12552301  0.041841    0.08368201 -0.041841    0.12552301\n",
      "  0.20920502  0.041841    0.12552301  0.08368201]\n"
     ]
    }
   ],
   "source": [
    "scope.write('*CLS')\n",
    "\n",
    "scope.write(\":ACQuire:TYPE HRESolution\")\n",
    "# sets the oscilloscope in the high-resolution mode (also known as smoothing). \n",
    "# This mode is used to reduce noise at slower sweep speeds where the digitizer samples faster than needed to fill \n",
    "# memory for the displayed time range. The slower the sweep speed, the greater the number of samples\n",
    "# that are averaged together for each display point.\n",
    "\n",
    "# if prefered use scope.write(\":ACQuire:NORMal\") instead\n",
    "\n",
    "scope.write(\":TIMebase:MODE MAIN\")\n",
    "scope.write(\":WAVeform:SOURce CHANnel{}\".format(ch))\n",
    "scope.write(\":WAVeform:FORMat WORD\")\n",
    "scope.write(\":WAVeform:POINts 100\")\n",
    "\n",
    "scope.write(\":SINGle\")\n",
    "#causes the instrument to acquire a single trigger of data.\n",
    "#This is the same as pressing the Single key on the front panel.\n",
    "\n",
    "preamble = scope.query(\":WAVeform:PREamble?\").split(\",\")\n",
    "values = scope.query_binary_values(\":WAVeform:DATA?\", datatype=\"h\", container=np.array)\n",
    "\n",
    "\n",
    "num_samples = int(preamble[2])\n",
    "\n",
    "\n",
    "x_increment = float(preamble[4])\n",
    "x_origin = 0 #set as desired or use float(preamble[5])\n",
    "x_reference = float(preamble[6])\n",
    "time = np.array([(np.arange(num_samples)-x_reference)*x_increment + x_origin])\n",
    "time = time.T # make x values vertical\n",
    "time_in_miliseconds = time * 1e3\n",
    "\n",
    "y_increment = float(preamble[7])\n",
    "y_origin = float(preamble[8])\n",
    "y_reference = float(preamble[9])\n",
    "voltage = (values-y_reference)*y_increment + y_origin\n",
    "\n",
    "np.save('wav_time.npy', np.array((time_in_miliseconds)).T)\n",
    "print(\"The time values in miliseconds have been saved to wav_time.npy\")\n",
    "time_data = np.load('wav_time.npy')\n",
    "print(time_data)\n",
    "\n",
    "np.save(\"wav_voltage.npy\", np.array((voltage)))\n",
    "print('The voltage values in VOLTS have been saved to wav_voltage.npy')\n",
    "voltage_data = np.load('wav_voltage.npy')\n",
    "print(voltage_data)\n"
   ]
  },
  {
   "cell_type": "code",
   "execution_count": 108,
   "id": "cc17f4c1",
   "metadata": {
    "scrolled": true
   },
   "outputs": [
    {
     "name": "stdout",
     "output_type": "stream",
     "text": [
      "Data saved to CSV file:  C:\\Users\\Public\\my_data_channel4.csv\n",
      "Data saved to CSV file:  C:\\Users\\Public\\my_data_channel4.csv\n"
     ]
    }
   ],
   "source": [
    "#save to csv file\n",
    "\n",
    "for ch in range(1, NUMBER_ANALOG_CHS+1):\n",
    "    On_Off = int(scope.query(\":CHANnel\" + str(ch) + \":DISPlay?\")) # checks if the channel is displayed by returning a 1 or 0\n",
    "    if On_Off == 1:\n",
    "        import csv\n",
    "        data = []\n",
    "        for i in range((x_origin)):\n",
    "            row = [x_origin[i], y_origin[i]]\n",
    "            data.append(row)\n",
    "            # Define the CSV file name\n",
    "            file_name = BASE_DIRECTORY + BASE_FILE_NAME + \"_channel{}.csv\".format(ch)\n",
    "\n",
    "            # Save the data to CSV\n",
    "            with open(file_name, 'w', newline='') as file:\n",
    "                writer = csv.writer(file)\n",
    "                writer.writerow(['Time (s)', 'Voltage (V)'])\n",
    "                writer.writerows(data)\n",
    "\n",
    "        print(\"Data saved to CSV file: \", file_name)"
   ]
  },
  {
   "cell_type": "code",
   "execution_count": null,
   "id": "31718f3b",
   "metadata": {},
   "outputs": [],
   "source": []
  },
  {
   "cell_type": "code",
   "execution_count": null,
   "id": "d12fc64d",
   "metadata": {},
   "outputs": [],
   "source": []
  },
  {
   "cell_type": "code",
   "execution_count": null,
   "id": "e63c1331",
   "metadata": {},
   "outputs": [],
   "source": []
  }
 ],
 "metadata": {
  "kernelspec": {
   "display_name": "Python 3 (ipykernel)",
   "language": "python",
   "name": "python3"
  },
  "language_info": {
   "codemirror_mode": {
    "name": "ipython",
    "version": 3
   },
   "file_extension": ".py",
   "mimetype": "text/x-python",
   "name": "python",
   "nbconvert_exporter": "python",
   "pygments_lexer": "ipython3",
   "version": "3.9.16"
  }
 },
 "nbformat": 4,
 "nbformat_minor": 5
}
